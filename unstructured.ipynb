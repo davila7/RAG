{
 "cells": [
  {
   "cell_type": "code",
   "execution_count": null,
   "metadata": {},
   "outputs": [],
   "source": [
    "import unstructured_client\n",
    "from unstructured_client.models import operations, shared\n",
    "\n",
    "client = unstructured_client.UnstructuredClient(\n",
    "    api_key_auth=\"YOUR_API_KEY\",\n",
    "    server_url=\"API_URL\",\n",
    ")\n",
    "\n",
    "filename = \"PATH_TO_FILE\"\n",
    "with open(filename, \"rb\") as f:\n",
    "    data = f.read()\n",
    "\n",
    "req = operations.PartitionRequest(\n",
    "    partition_parameters=shared.PartitionParameters(\n",
    "        files=shared.Files(\n",
    "            content=data,\n",
    "            file_name=filename,\n",
    "        ),\n",
    "        # --- Other partition parameters ---\n",
    "        strategy=shared.Strategy.AUTO,\n",
    "        languages=['eng'],\n",
    "    ),\n",
    ")\n",
    "\n",
    "try:\n",
    "    res = client.general.partition(request=req)\n",
    "    print(res.elements[0])\n",
    "except Exception as e:\n",
    "    print(e)\n"
   ]
  }
 ],
 "metadata": {
  "kernelspec": {
   "display_name": "e2b_sandbox",
   "language": "python",
   "name": "python3"
  },
  "language_info": {
   "name": "python",
   "version": "3.10.12"
  }
 },
 "nbformat": 4,
 "nbformat_minor": 2
}
