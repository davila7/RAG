{
 "cells": [
  {
   "cell_type": "code",
   "execution_count": 2,
   "metadata": {},
   "outputs": [
    {
     "name": "stderr",
     "output_type": "stream",
     "text": [
      "INFO: Preparing to split document for partition.\n",
      "INFO: Starting page number set to 1\n"
     ]
    },
    {
     "name": "stderr",
     "output_type": "stream",
     "text": [
      "INFO: Concurrency level set to 5\n",
      "INFO: Determined optimal split size of 3 pages.\n",
      "INFO: Document split into 4, 3-paged sets.\n",
      "INFO: Partitioning 4, 3-paged sets.\n",
      "INFO: Partitioning set #1 (pages 1-4).\n",
      "INFO: Partitioning set #2 (pages 4-7).\n",
      "INFO: Partitioning set #3 (pages 7-10).\n",
      "INFO: Partitioning set #4 (pages 10-11).\n",
      "INFO: HTTP Request: POST https://api.unstructuredapp.io/general/v0/general \"HTTP/1.1 200 OK\"\n",
      "INFO: HTTP Request: POST https://api.unstructuredapp.io/general/v0/general \"HTTP/1.1 200 OK\"\n",
      "INFO: HTTP Request: POST https://api.unstructuredapp.io/general/v0/general \"HTTP/1.1 200 OK\"\n",
      "INFO: Successfully partitioned set #1, elements added to the final result.\n",
      "INFO: Successfully partitioned set #2, elements added to the final result.\n",
      "INFO: Successfully partitioned set #3, elements added to the final result.\n",
      "INFO: Successfully partitioned set #4, elements added to the final result.\n",
      "INFO: Successfully partitioned the document.\n"
     ]
    },
    {
     "name": "stdout",
     "output_type": "stream",
     "text": [
      "{'type': 'Title', 'element_id': '237531ab021355e47d29794149af6a94', 'text': 'Attention Is All You Need', 'metadata': {'filetype': 'application/pdf', 'languages': ['eng'], 'page_number': 1, 'filename': 'attention-is-all-you-need.pdf'}}\n",
      "{'type': 'NarrativeText', 'element_id': 'd4e57c05e627d81797276d0bb0a03faa', 'text': 'Ashish Vaswani∗ Google Brain avaswani@google.com', 'metadata': {'filetype': 'application/pdf', 'languages': ['eng'], 'page_number': 1, 'parent_id': '237531ab021355e47d29794149af6a94', 'filename': 'attention-is-all-you-need.pdf'}}\n",
      "{'type': 'Title', 'element_id': '4cf8b15c81cb51aa0ae3135b22eb265b', 'text': 'Llion Jones∗ Google Research llion@google.com', 'metadata': {'filetype': 'application/pdf', 'languages': ['eng'], 'page_number': 1, 'filename': 'attention-is-all-you-need.pdf'}}\n"
     ]
    }
   ],
   "source": [
    "import unstructured_client\n",
    "from unstructured_client.models import operations, shared\n",
    "from dotenv import load_dotenv\n",
    "import os\n",
    "\n",
    "# Load environment variables from .env file\n",
    "load_dotenv()\n",
    "\n",
    "unstructured_api_key = os.getenv(\"UNSTRUCTURED_API_KEY\")\n",
    "url_unstructured = os.getenv(\"UNSTRUCTURED_URL\")\n",
    "\n",
    "client = unstructured_client.UnstructuredClient(\n",
    "    api_key_auth=unstructured_api_key,\n",
    "    server_url=url_unstructured,\n",
    ")\n",
    "\n",
    "filename = \"data/attention-is-all-you-need.pdf\"\n",
    "with open(filename, \"rb\") as f:\n",
    "    data = f.read()\n",
    "\n",
    "req = operations.PartitionRequest(\n",
    "    partition_parameters=shared.PartitionParameters(\n",
    "        files=shared.Files(\n",
    "            content=data,\n",
    "            file_name=filename,\n",
    "        ),\n",
    "        # --- Other partition parameters ---\n",
    "        strategy=shared.Strategy.AUTO,\n",
    "        languages=['eng'],\n",
    "    ),\n",
    ")\n",
    "\n",
    "try:\n",
    "    res = client.general.partition(request=req)\n",
    "    print(res.elements[0])\n",
    "    print(res.elements[1])\n",
    "    print(res.elements[2])\n",
    "except Exception as e:\n",
    "    print(e)\n"
   ]
  },
  {
   "cell_type": "code",
   "execution_count": null,
   "metadata": {},
   "outputs": [],
   "source": [
    "{'type': 'Title', 'element_id': '237531ab021355e47d29794149af6a94', 'text': 'Attention Is All You Need', 'metadata': {'filetype': 'application/pdf', 'languages': ['eng'], 'page_number': 1, 'filename': 'attention-is-all-you-need.pdf'}}\n",
    "\n",
    "{'type': 'NarrativeText', 'element_id': 'd4e57c05e627d81797276d0bb0a03faa', 'text': 'Ashish Vaswani∗ Google Brain avaswani@google.com', 'metadata': {'filetype': 'application/pdf', 'languages': ['eng'], 'page_number': 1, 'parent_id': '237531ab021355e47d29794149af6a94', 'filename': 'attention-is-all-you-need.pdf'}}\n",
    "\n",
    "{'type': 'Title', 'element_id': '4cf8b15c81cb51aa0ae3135b22eb265b', 'text': 'Llion Jones∗ Google Research llion@google.com', 'metadata': {'filetype': 'application/pdf', 'languages': ['eng'], 'page_number': 1, 'filename': 'attention-is-all-you-need.pdf'}}"
   ]
  }
 ],
 "metadata": {
  "kernelspec": {
   "display_name": "e2b_sandbox",
   "language": "python",
   "name": "python3"
  },
  "language_info": {
   "codemirror_mode": {
    "name": "ipython",
    "version": 3
   },
   "file_extension": ".py",
   "mimetype": "text/x-python",
   "name": "python",
   "nbconvert_exporter": "python",
   "pygments_lexer": "ipython3",
   "version": "3.10.12"
  }
 },
 "nbformat": 4,
 "nbformat_minor": 2
}
