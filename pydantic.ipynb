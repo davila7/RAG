{
 "cells": [
  {
   "cell_type": "code",
   "execution_count": 1,
   "metadata": {},
   "outputs": [
    {
     "name": "stdout",
     "output_type": "stream",
     "text": [
      "name='The Overlook' artist='Jack Torrance' songs=[Song(title='Midnight, the Stars and You', length_seconds=180), Song(title='Midnight Lullaby', length_seconds=240)]\n"
     ]
    }
   ],
   "source": [
    "from typing import List\n",
    "from pydantic import BaseModel\n",
    "\n",
    "class Song(BaseModel):\n",
    "    title: str\n",
    "    length_seconds: int\n",
    "\n",
    "class Album(BaseModel):\n",
    "    name: str\n",
    "    artist: str\n",
    "    songs: List[Song]\n",
    "\n",
    "# Ejemplo de uso\n",
    "album = Album(\n",
    "    name=\"The Overlook\",\n",
    "    artist=\"Jack Torrance\",\n",
    "    songs=[\n",
    "        Song(title=\"Midnight, the Stars and You\", length_seconds=180),\n",
    "        Song(title=\"Midnight Lullaby\", length_seconds=240)\n",
    "    ]\n",
    ")\n",
    "\n",
    "print(album)\n"
   ]
  }
 ],
 "metadata": {
  "kernelspec": {
   "display_name": "Python 3",
   "language": "python",
   "name": "python3"
  },
  "language_info": {
   "codemirror_mode": {
    "name": "ipython",
    "version": 3
   },
   "file_extension": ".py",
   "mimetype": "text/x-python",
   "name": "python",
   "nbconvert_exporter": "python",
   "pygments_lexer": "ipython3",
   "version": "3.10.13"
  }
 },
 "nbformat": 4,
 "nbformat_minor": 2
}
