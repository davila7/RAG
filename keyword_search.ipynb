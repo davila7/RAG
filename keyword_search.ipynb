{
 "cells": [
  {
   "cell_type": "code",
   "execution_count": null,
   "metadata": {},
   "outputs": [],
   "source": [
    "import weaviate\n",
    "import cohere\n",
    "\n",
    "# Add your Cohere API key here\n",
    "# You can obtain a key by signing up in https://dashboard.cohere.com/ or https://docs.cohere.com/reference/key\n",
    "cohere_api_key = \"COHERE_API_KEY\"\n",
    "\n",
    "co = cohere.Client(cohere_api_key)\n",
    "\n",
    "# Connect to the Weaviate demo databse containing 10M wikipedia vectors\n",
    "# This uses a public READ-ONLY Weaviate API key\n",
    "auth_config = weaviate.auth.AuthApiKey(api_key=\"76320a90-53d8-42bc-b41d-678647c6672e\")\n",
    "client = weaviate.Client(\n",
    "    url=\"https://cohere-demo.weaviate.network/\",\n",
    "    auth_client_secret=auth_config,\n",
    "    additional_headers={\n",
    "        \"X-Cohere-Api-Key\": cohere_api_key,\n",
    "    }\n",
    ")\n",
    "\n",
    "query =\"\"\n",
    "results_lang='en' \n",
    "num_results=10\n",
    "\n",
    "properties = [\"text\", \"title\", \"url\", \"views\", \"lang\", \"_additional {distance}\"]\n",
    "\n",
    "where_filter = {\n",
    "    \"path\": [\"lang\"],\n",
    "    \"operator\": \"Equal\",\n",
    "    \"valueString\": results_lang\n",
    "}\n",
    "\n",
    "response = (\n",
    "    client.query.get(\"Articles\", properties)\n",
    "    .with_bm25(\n",
    "        query=query\n",
    "    )\n",
    "    .with_where(where_filter)\n",
    "    .with_limit(num_results)\n",
    "    .do()\n",
    ")\n",
    "result = response['data']['Get']['Articles']\n"
   ]
  }
 ],
 "metadata": {
  "kernelspec": {
   "display_name": "Python 3",
   "language": "python",
   "name": "python3"
  },
  "language_info": {
   "name": "python",
   "version": "3.10.12"
  }
 },
 "nbformat": 4,
 "nbformat_minor": 2
}
