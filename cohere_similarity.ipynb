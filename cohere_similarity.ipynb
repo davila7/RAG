{
 "cells": [
  {
   "cell_type": "code",
   "execution_count": 11,
   "metadata": {},
   "outputs": [
    {
     "name": "stderr",
     "output_type": "stream",
     "text": [
      "default model on embed will be deprecated in the future, please specify a model in the request.\n"
     ]
    },
    {
     "name": "stdout",
     "output_type": "stream",
     "text": [
      "Red + Bload similarity:  0.8973336794580589\n",
      "Red + Sea similarity:  -0.5640500839617745\n"
     ]
    }
   ],
   "source": [
    "import cohere\n",
    "import numpy as np\n",
    "from dotenv import load_dotenv\n",
    "import os\n",
    "# Load environment variables from .env file\n",
    "load_dotenv()\n",
    "\n",
    "cohere_api_key = os.getenv(\"COHERE_API_KEY\")\n",
    "co = cohere.Client(cohere_api_key)\n",
    "\n",
    "# get the embeddings\n",
    "words = [\"Red\", \"Blood\", \"Sea\"]\n",
    "(p1, p2, p3) = co.embed(words).embeddings\n",
    "\n",
    "# compare them\n",
    "def calculate_similarity(a, b):\n",
    "  return np.dot(a, b) / (np.linalg.norm(a) * np.linalg.norm(b))\n",
    "\n",
    "# Similarity -1 to 1\n",
    "\n",
    "print(\"Red + Bload similarity: \", calculate_similarity(p1, p2)) \n",
    "\n",
    "print(\"Red + Sea similarity: \",calculate_similarity(p1, p3)) \n"
   ]
  }
 ],
 "metadata": {
  "kernelspec": {
   "display_name": "Python 3",
   "language": "python",
   "name": "python3"
  },
  "language_info": {
   "codemirror_mode": {
    "name": "ipython",
    "version": 3
   },
   "file_extension": ".py",
   "mimetype": "text/x-python",
   "name": "python",
   "nbconvert_exporter": "python",
   "pygments_lexer": "ipython3",
   "version": "3.10.12"
  }
 },
 "nbformat": 4,
 "nbformat_minor": 2
}
