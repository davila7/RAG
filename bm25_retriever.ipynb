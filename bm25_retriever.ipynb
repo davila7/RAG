{
 "cells": [
  {
   "cell_type": "markdown",
   "metadata": {},
   "source": [
    "## BM25\n",
    "Este script de Python usa el BM25Retriever del paquete **langchain_community.retrievers** para puntuar cuán relevante es cada documento en una lista para una consulta dada. \n",
    "\n",
    "Crea una lista de documentos, inicializa un BM25Retriever con estos documentos, establece su parámetro k en 1, y recupera puntuaciones para la consulta \"Apple\". Las puntuaciones resultantes se imprimen."
   ]
  },
  {
   "cell_type": "code",
   "execution_count": null,
   "metadata": {},
   "outputs": [
    {
     "name": "stdout",
     "output_type": "stream",
     "text": [
      "[Document(page_content='Banana')]\n"
     ]
    }
   ],
   "source": [
    "from langchain_community.retrievers import BM25Retriever\n",
    "\n",
    "doc_list = [\n",
    "    \"Blod\",\n",
    "    \"Red\",\n",
    "    \"Sea\",\n",
    "    \"Banana\"\n",
    "]\n",
    "\n",
    "bm25_result = BM25Retriever.from_texts(doc_list)\n",
    "bm25_result.k = 1\n",
    "\n",
    "result = bm25_result.invoke(\"Apple\")\n",
    "print(result)\n"
   ]
  },
  {
   "cell_type": "code",
   "execution_count": null,
   "metadata": {},
   "outputs": [],
   "source": [
    "# TODO:\n",
    "# Ensamblar con from langchain.retrievers import EnsembleRetriever\n"
   ]
  }
 ],
 "metadata": {
  "kernelspec": {
   "display_name": "Python 3",
   "language": "python",
   "name": "python3"
  },
  "language_info": {
   "codemirror_mode": {
    "name": "ipython",
    "version": 3
   },
   "file_extension": ".py",
   "mimetype": "text/x-python",
   "name": "python",
   "nbconvert_exporter": "python",
   "pygments_lexer": "ipython3",
   "version": "3.10.12"
  }
 },
 "nbformat": 4,
 "nbformat_minor": 2
}
