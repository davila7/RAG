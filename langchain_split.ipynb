{
 "cells": [
  {
   "cell_type": "code",
   "execution_count": 4,
   "metadata": {},
   "outputs": [
    {
     "name": "stdout",
     "output_type": "stream",
     "text": [
      "[Document(page_content='Lorem Ipsum is simply dummy'), Document(page_content='text of the printing and'), Document(page_content='typesetting industry. Lorem'), Document(page_content=\"Ipsum has been the industry's\"), Document(page_content='standard dummy text ever since'), Document(page_content='the 1500s, when an unknown'), Document(page_content='printer took a galley of type'), Document(page_content='and scrambled it to make a'), Document(page_content='a type specimen book. It has'), Document(page_content='survived not only five'), Document(page_content='centuries, but also the leap'), Document(page_content='into electronic typesetting,'), Document(page_content='remaining essentially'), Document(page_content='unchanged. It was popularised'), Document(page_content='in the 1960s with the release'), Document(page_content='of Letraset sheets containing'), Document(page_content='Lorem Ipsum passages, and more'), Document(page_content='recently with desktop'), Document(page_content='publishing software like Aldus'), Document(page_content='PageMaker including versions'), Document(page_content='of Lorem Ipsum.')]\n"
     ]
    }
   ],
   "source": [
    "from langchain.text_splitter import CharacterTextSplitter\n",
    "\n",
    "\n",
    "text = \"Lorem Ipsum is simply dummy text of the printing and typesetting industry. Lorem Ipsum has been the industry's standard dummy text ever since the 1500s, when an unknown printer took a galley of type and scrambled it to make a type specimen book. It has survived not only five centuries, but also the leap into electronic typesetting, remaining essentially unchanged. It was popularised in the 1960s with the release of Letraset sheets containing Lorem Ipsum passages, and more recently with desktop publishing software like Aldus PageMaker including versions of Lorem Ipsum.\"\n",
    "\n",
    "text_splitter = CharacterTextSplitter(chunk_size=30, chunk_overlap=2, separator=' ', strip_whitespace=True)\n",
    "\n",
    "\n",
    "print(text_splitter.create_documents([text]))\n",
    "\n"
   ]
  },
  {
   "cell_type": "code",
   "execution_count": null,
   "metadata": {},
   "outputs": [],
   "source": [
    "[Document(page_content='Lorem Ipsum is simply dummy'), Document(page_content='text of the printing and'), Document(page_content='typesetting industry. Lorem'), Document(page_content=\"Ipsum has been the industry's\"), Document(page_content='standard dummy text ever since'), Document(page_content='the 1500s, when an unknown'), Document(page_content='printer took a galley of type'), Document(page_content='and scrambled it to make a'), Document(page_content='a type specimen book. It has'), Document(page_content='survived not only five'), Document(page_content='centuries, but also the leap'), Document(page_content='into electronic typesetting,'), Document(page_content='remaining essentially'), Document(page_content='unchanged. It was popularised'), Document(page_content='in the 1960s with the release'), Document(page_content='of Letraset sheets containing'), Document(page_content='Lorem Ipsum passages, and more'), Document(page_content='recently with desktop'), Document(page_content='publishing software like Aldus'), Document(page_content='PageMaker including versions'), Document(page_content='of Lorem Ipsum.')]\n"
   ]
  }
 ],
 "metadata": {
  "kernelspec": {
   "display_name": "Python 3",
   "language": "python",
   "name": "python3"
  },
  "language_info": {
   "codemirror_mode": {
    "name": "ipython",
    "version": 3
   },
   "file_extension": ".py",
   "mimetype": "text/x-python",
   "name": "python",
   "nbconvert_exporter": "python",
   "pygments_lexer": "ipython3",
   "version": "3.11.7"
  }
 },
 "nbformat": 4,
 "nbformat_minor": 2
}
