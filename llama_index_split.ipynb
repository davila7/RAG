{
 "cells": [
  {
   "cell_type": "code",
   "execution_count": 1,
   "metadata": {},
   "outputs": [
    {
     "name": "stdout",
     "output_type": "stream",
     "text": [
      "1\n"
     ]
    }
   ],
   "source": [
    "from llama_index.text_splitter import SentenceSplitter\n",
    "from llama_index import SimpleDirectoryReader\n",
    "\n",
    "splitter = SentenceSplitter(\n",
    "    chunk_size=200,\n",
    "    chunk_overlap=15,\n",
    ")\n",
    "\n",
    "documents = SimpleDirectoryReader(\n",
    "    input_files=[\"./data/1. Seguro Catastrófico UC CHRISTUS.docx.txt\"]\n",
    ").load_data()\n",
    "\n",
    "print(len(documents))"
   ]
  },
  {
   "cell_type": "markdown",
   "metadata": {},
   "source": [
    "En llama_index cada chunk = node"
   ]
  },
  {
   "cell_type": "code",
   "execution_count": 2,
   "metadata": {},
   "outputs": [
    {
     "name": "stdout",
     "output_type": "stream",
     "text": [
      "19\n"
     ]
    }
   ],
   "source": [
    "nodes = splitter.get_nodes_from_documents(documents)\n",
    "print(len(nodes))"
   ]
  },
  {
   "cell_type": "code",
   "execution_count": 3,
   "metadata": {},
   "outputs": [
    {
     "data": {
      "text/plain": [
       "TextNode(id_='aa7531db-c4cd-4c9a-9588-d36af259c8b5', embedding=None, metadata={'file_path': 'data/1. Seguro Catastrófico UC CHRISTUS.docx.txt', 'file_name': '1. Seguro Catastrófico UC CHRISTUS.docx.txt', 'file_type': 'text/plain', 'file_size': 9000, 'creation_date': '2024-02-14', 'last_modified_date': '2024-02-14', 'last_accessed_date': '2024-02-14'}, excluded_embed_metadata_keys=['file_name', 'file_type', 'file_size', 'creation_date', 'last_modified_date', 'last_accessed_date'], excluded_llm_metadata_keys=['file_name', 'file_type', 'file_size', 'creation_date', 'last_modified_date', 'last_accessed_date'], relationships={<NodeRelationship.SOURCE: '1'>: RelatedNodeInfo(node_id='e377d0c1-6831-45ae-b31e-600684e2abbb', node_type=<ObjectType.DOCUMENT: '4'>, metadata={'file_path': 'data/1. Seguro Catastrófico UC CHRISTUS.docx.txt', 'file_name': '1. Seguro Catastrófico UC CHRISTUS.docx.txt', 'file_type': 'text/plain', 'file_size': 9000, 'creation_date': '2024-02-14', 'last_modified_date': '2024-02-14', 'last_accessed_date': '2024-02-14'}, hash='4cc2518e4f7f68ea5b904858a4cee141e76b2089d583254c05b841937b4a4988'), <NodeRelationship.NEXT: '3'>: RelatedNodeInfo(node_id='9f199abb-d683-49ba-ab19-7848ceda8214', node_type=<ObjectType.TEXT: '1'>, metadata={'file_path': 'data/1. Seguro Catastrófico UC CHRISTUS.docx.txt', 'file_name': '1. Seguro Catastrófico UC CHRISTUS.docx.txt', 'file_type': 'text/plain', 'file_size': 9000, 'creation_date': '2024-02-14', 'last_modified_date': '2024-02-14', 'last_accessed_date': '2024-02-14'}, hash='97fe6ed06d1cab2493ef6a06079e1817bce935742c812096d962e63090553f02')}, hash='7f6a5bddba423421e812d6898a22d0ec94234d9d886edf1bf84ba7ea6ae6aab6', text='\\ufeffCaracterísticas Seguro Catastrófico UC CHRISTUS \\n¿Cómo funciona mi Seguro?\\n* Ante un accidente o enfermedad acude a tu sucursal UC CHRISTUS y podrás obtener un reembolso de hasta UF 20.000, para esto debes cumplir con una Bonificación Mínima de Salud (BM) por parte de tu Sistema de Salud Previsional (SSP) y Consorcio reembolsará los gastos médicos hospitalarios y ambulatorios según las condiciones del seguro.\\n* Puedes agregar hasta a 7 integrantes de tu grupo familiar: cónyuge, conviviente civil, pareja, padres, suegros e hijos.\\n* Puedes usar tu seguro en toda la Red UC Christus.', start_char_idx=None, end_char_idx=None, text_template='{metadata_str}\\n\\n{content}', metadata_template='{key}: {value}', metadata_seperator='\\n')"
      ]
     },
     "execution_count": 3,
     "metadata": {},
     "output_type": "execute_result"
    }
   ],
   "source": [
    "nodes[0]"
   ]
  },
  {
   "cell_type": "markdown",
   "metadata": {},
   "source": []
  },
  {
   "cell_type": "markdown",
   "metadata": {},
   "source": [
    "TextNode(id_='aa7531db-c4cd-4c9a-9588-d36af259c8b5', embedding=None, metadata={'file_path': 'data/1. Seguro Catastrófico UC CHRISTUS.docx.txt', 'file_name': '1. Seguro Catastrófico UC CHRISTUS.docx.txt', 'file_type': 'text/plain', 'file_size': 9000, 'creation_date': '2024-02-14', 'last_modified_date': '2024-02-14', 'last_accessed_date': '2024-02-14'}, excluded_embed_metadata_keys=['file_name', 'file_type', 'file_size', 'creation_date', 'last_modified_date', 'last_accessed_date'], excluded_llm_metadata_keys=['file_name', 'file_type', 'file_size', 'creation_date', 'last_modified_date', 'last_accessed_date'], relationships={<NodeRelationship.SOURCE: '1'>: RelatedNodeInfo(node_id='e377d0c1-6831-45ae-b31e-600684e2abbb', node_type=<ObjectType.DOCUMENT: '4'>, metadata={'file_path': 'data/1. Seguro Catastrófico UC CHRISTUS.docx.txt', 'file_name': '1. Seguro Catastrófico UC CHRISTUS.docx.txt', 'file_type': 'text/plain', 'file_size': 9000, 'creation_date': '2024-02-14', 'last_modified_date': '2024-02-14', 'last_accessed_date': '2024-02-14'}, hash='4cc2518e4f7f68ea5b904858a4cee141e76b2089d583254c05b841937b4a4988'), <NodeRelationship.NEXT: '3'>: RelatedNodeInfo(node_id='9f199abb-d683-49ba-ab19-7848ceda8214', node_type=<ObjectType.TEXT: '1'>, metadata={'file_path': 'data/1. Seguro Catastrófico UC CHRISTUS.docx.txt', 'file_name': '1. Seguro Catastrófico UC CHRISTUS.docx.txt', 'file_type': 'text/plain', 'file_size': 9000, 'creation_date': '2024-02-14', 'last_modified_date': '2024-02-14', 'last_accessed_date': '2024-02-14'}, hash='97fe6ed06d1cab2493ef6a06079e1817bce935742c812096d962e63090553f02')}, hash='7f6a5bddba423421e812d6898a22d0ec94234d9d886edf1bf84ba7ea6ae6aab6', text='\\ufeffCaracterísticas Seguro Catastrófico UC CHRISTUS \\n¿Cómo funciona mi Seguro?\\n* Ante un accidente o enfermedad acude a tu sucursal UC CHRISTUS y podrás obtener un reembolso de hasta UF 20.000, para esto debes cumplir con una Bonificación Mínima de Salud (BM) por parte de tu Sistema de Salud Previsional (SSP) y Consorcio reembolsará los gastos médicos hospitalarios y ambulatorios según las condiciones del seguro.\\n* Puedes agregar hasta a 7 integrantes de tu grupo familiar: cónyuge, conviviente civil, pareja, padres, suegros e hijos.\\n* Puedes usar tu seguro en toda la Red UC Christus.', start_char_idx=None, end_char_idx=None, text_template='{metadata_str}\\n\\n{content}', metadata_template='{key}: {value}', metadata_seperator='\\n')"
   ]
  }
 ],
 "metadata": {
  "kernelspec": {
   "display_name": "Python 3",
   "language": "python",
   "name": "python3"
  },
  "language_info": {
   "codemirror_mode": {
    "name": "ipython",
    "version": 3
   },
   "file_extension": ".py",
   "mimetype": "text/x-python",
   "name": "python",
   "nbconvert_exporter": "python",
   "pygments_lexer": "ipython3",
   "version": "3.11.7"
  }
 },
 "nbformat": 4,
 "nbformat_minor": 2
}
